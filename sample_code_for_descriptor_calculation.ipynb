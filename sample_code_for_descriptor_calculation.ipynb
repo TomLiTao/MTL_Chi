{
 "cells": [
  {
   "cell_type": "code",
   "execution_count": 7,
   "id": "397569d8-9234-4b3e-aaa7-be5e6e0a564d",
   "metadata": {},
   "outputs": [
    {
     "name": "stderr",
     "output_type": "stream",
     "text": [
      "/home/lulab/mambaforge/envs/ML_poly/lib/python3.8/site-packages/tqdm/auto.py:21: TqdmWarning: IProgress not found. Please update jupyter and ipywidgets. See https://ipywidgets.readthedocs.io/en/stable/user_install.html\n",
      "  from .autonotebook import tqdm as notebook_tqdm\n"
     ]
    }
   ],
   "source": [
    "import pandas as pd\n",
    "import numpy as np\n",
    "import pickle as pk\n",
    "import os\n",
    "import sys\n",
    "\n",
    "from rdkit import Chem\n",
    "\n",
    "from datetime import datetime\n",
    "import matplotlib.pyplot as plt\n",
    "\n",
    "from IPython.core.interactiveshell import InteractiveShell\n",
    "InteractiveShell.ast_node_interactivity = \"all\"\n",
    "\n",
    "from xenonpy.descriptor import Fingerprints\n",
    "import xenonpy\n",
    "xenonpy.__version__\n",
    "\n",
    "from tqdm.autonotebook import tqdm\n",
    "from radonpy.core import poly, calc, const\n",
    "from radonpy.ff.gaff2 import GAFF2\n",
    "from radonpy.ff.descriptor import FF_descriptor\n",
    "const.print_level = 1\n"
   ]
  },
  {
   "cell_type": "markdown",
   "id": "3397aa8f-f570-48df-87ab-0086e7b28ad2",
   "metadata": {},
   "source": [
    "### Prepare cyclic SMILES for polymers"
   ]
  },
  {
   "cell_type": "markdown",
   "id": "933e51e8-eeeb-4e34-8329-e424fea90843",
   "metadata": {},
   "source": [
    "The sample codes below demonstrate how to use radonpy to produce SMILES that represents a polymer that undergoes the following two operations:\n",
    "1. Make N copies of the repeating unit of a polymer and connect them sequentially (head to tail) that results in a long polymer chain\n",
    "2. Connect the head and tail of the long polymer chain to make a cyclic polymer used to mimic an infinitely long polymer chain\n",
    "\n",
    "Note that the original polymer SMILES is assumed to have exactly two '*'s that represent the head and tail of a polymer"
   ]
  },
  {
   "cell_type": "code",
   "execution_count": 9,
   "id": "952c6ff1-a8cd-4b82-8305-93ebf1cd35ca",
   "metadata": {},
   "outputs": [],
   "source": [
    "N_cyclic = 10 # number of repeating unit for the long polymer chain\n",
    "\n",
    "smis_single = ['*C(CC)CC*', '*c1ccc(C*)cc1'] # two examples of polymer SMILES\n",
    "\n",
    "smis_cyclic = [poly.make_cyclicpolymer(x, n=N_cyclic) for x in smis_single]\n"
   ]
  },
  {
   "cell_type": "markdown",
   "id": "185ad1b2-a53f-4bb3-bfb7-9f514e9cb424",
   "metadata": {},
   "source": [
    "### Calculate descriptors for polymers and solvents"
   ]
  },
  {
   "cell_type": "markdown",
   "id": "455f990a-d281-4fbc-b8cb-8fa1d4a224ea",
   "metadata": {},
   "source": [
    "#### data preparation"
   ]
  },
  {
   "cell_type": "markdown",
   "id": "3edd14d1-c735-45d2-98d3-5e0647b61757",
   "metadata": {},
   "source": [
    "Load data: in our data file, SMILES of polymers and solvents are connected with '_' initially. "
   ]
  },
  {
   "cell_type": "code",
   "execution_count": 5,
   "id": "3c226557-bdae-4291-bccb-1f9df29ae277",
   "metadata": {},
   "outputs": [],
   "source": [
    "data = pd.read_csv('demo_data/demo_smiles.csv', index_col=0)\n",
    "smis_poly = []\n",
    "smis_solv = []\n",
    "for smi in data['ps_pair'].values:\n",
    "    tmp = smi.split('_')\n",
    "    smis_poly.append(tmp[0])\n",
    "    smis_solv.append(tmp[1])\n",
    "    "
   ]
  },
  {
   "cell_type": "code",
   "execution_count": 1,
   "id": "d25a5d07",
   "metadata": {},
   "outputs": [],
   "source": [
    "import pandas as pd\n",
    "\n",
    "# Manually enter polymer and solvent SMILES strings\n",
    "polymer_smiles = ['C1=CC(=CC=C1C(=O)O)C(=O)O.C(CO)O', 'C1=CC(=CC=C1C(=O)O)C(=O)O.C(CO)O', 'C1=CC(=CC=C1C(=O)O)C(=O)O.C(CO)O']\n",
    "solvent_smiles = ['[Br]Br', '[H]/C(Cl)=C(Cl)\\Cl', '[H][C]([H])([N+]([O-])=O)[H]']\n",
    "ps_pair = ['C1=CC(=CC=C1C(=O)O)C(=O)O.C(CO)O_[Br]Br', 'C1=CC(=CC=C1C(=O)O)C(=O)O.C(CO)O_[H]/C(Cl)=C(Cl)\\Cl', 'C1=CC(=CC=C1C(=O)O)C(=O)O.C(CO)O_[H][C]([H])([N+]([O-])=O)[H]']\n",
    "temp = ['100.0', '100.0', '100.0']\n",
    "# Create a dataframe with the SMILES strings\n",
    "data = pd.DataFrame({'Polymer': polymer_smiles, 'Solvent': solvent_smiles, 'ps_pair': ps_pair, 'temp': temp})\n",
    "\n",
    "# Save the dataframe to a CSV file\n",
    "data.to_csv('demo_data/demo_smiles.csv', index=True)"
   ]
  },
  {
   "cell_type": "code",
   "execution_count": 8,
   "id": "b1cf3e4e-f478-4211-9d0d-f736d6b6b50d",
   "metadata": {},
   "outputs": [
    {
     "name": "stdout",
     "output_type": "stream",
     "text": [
      "Unique number of polymer SMILES: 1\n",
      "Unique number of solvent SMILES: 3\n"
     ]
    }
   ],
   "source": [
    "# extract the unique SMILES of polymers and solvents\n",
    "uni_poly = np.unique(smis_poly)\n",
    "uni_solv = np.unique(smis_solv)\n",
    "\n",
    "print(f'Unique number of polymer SMILES: {uni_poly.shape[0]}')\n",
    "print(f'Unique number of solvent SMILES: {uni_solv.shape[0]}')\n"
   ]
  },
  {
   "cell_type": "markdown",
   "id": "4a79d2a0-ffb1-4d74-b50d-4af3fe0907a7",
   "metadata": {},
   "source": [
    "To save time, we only calculate the unique SMILES and the assemble the descriptor for each polymer-solvent pair afterward."
   ]
  },
  {
   "cell_type": "code",
   "execution_count": 9,
   "id": "dde6c6b3-9fb5-466e-b530-e91f062ccee2",
   "metadata": {},
   "outputs": [],
   "source": [
    "# set up a dictionary for descriptor calculation\n",
    "uni_smis = {'Polymer': uni_poly, 'Solvent': uni_solv}\n",
    "\n",
    "# set up a dictionary to store all descriptors\n",
    "desc_data = {}\n"
   ]
  },
  {
   "cell_type": "markdown",
   "id": "967e5fd9-104e-4838-a287-de92cc3af6a4",
   "metadata": {},
   "source": [
    "Note that the final SMILES that we are using for the descriptor calculation contains 'H's explicitly. If the SMILES you have (for both the cyclic polymers and solvents) does not have explicit 'H' representation, please use the follow sample code to modify the SMILES."
   ]
  },
  {
   "cell_type": "code",
   "execution_count": 13,
   "id": "2e4d186c-9b53-4992-bdc9-952b7638b9e0",
   "metadata": {},
   "outputs": [],
   "source": [
    "smis_noHs = ['CCl', 'ClCCl']\n",
    "smis_addHs = [Chem.MolToSmiles(Chem.AddHs(Chem.MolFromSmiles(x))) for x in smis_noHs]\n"
   ]
  },
  {
   "cell_type": "markdown",
   "id": "cde1f093-6633-414b-a594-854407587dd7",
   "metadata": {},
   "source": [
    "#### calculate Force-field descriptors using radonpy"
   ]
  },
  {
   "cell_type": "code",
   "execution_count": 10,
   "id": "7c86350e-095d-403d-8d3a-dc03a1535a62",
   "metadata": {
    "collapsed": true,
    "jupyter": {
     "outputs_hidden": true
    },
    "tags": []
   },
   "outputs": [
    {
     "name": "stdout",
     "output_type": "stream",
     "text": [
      "2024-08-27 00:54:59.499304\n",
      "Polymer done\n",
      "2024-08-27 00:55:01.892503\n",
      "Solvent done\n",
      "All done!\n"
     ]
    }
   ],
   "source": [
    "# parameters for force-field descriptors\n",
    "nk = 20\n",
    "sigma = 1/nk/2\n",
    "\n",
    "for key, val in uni_smis.items():\n",
    "    try:\n",
    "        ff = GAFF2()\n",
    "        ff_desc = FF_descriptor(ff, polar=True)\n",
    "        desc_names = ff_desc.ffkm_desc_names(nk=nk)\n",
    "\n",
    "        desc = ff_desc.ffkm_mp(list(val), nk=nk, s=sigma, cyclic=0)\n",
    "            \n",
    "        desc_data[f'{key}_ff'] = pd.DataFrame(desc, columns=[f'{key}_{x}' for x in desc_names], index=val)\n",
    "        \n",
    "        print(datetime.now())\n",
    "        print(f'{key} done')\n",
    "        \n",
    "    except:\n",
    "        print(f'{key} failed')\n",
    "        pass\n",
    "    \n",
    "print('All done!')\n"
   ]
  },
  {
   "cell_type": "markdown",
   "id": "2c5a049c-09f4-46ff-8123-9f5978215d96",
   "metadata": {},
   "source": [
    "#### calculate descriptors from rdkit using xenonpy"
   ]
  },
  {
   "cell_type": "code",
   "execution_count": 11,
   "id": "e43bf4ec-e6ea-4897-8405-7f0862b0c4a0",
   "metadata": {
    "collapsed": true,
    "jupyter": {
     "outputs_hidden": true
    },
    "tags": []
   },
   "outputs": [
    {
     "name": "stdout",
     "output_type": "stream",
     "text": [
      "2024-08-27 00:55:05.307669\n",
      "Program started...\n"
     ]
    },
    {
     "name": "stderr",
     "output_type": "stream",
     "text": [
      "[00:55:09] DEPRECATION WARNING: please use MorganGenerator\n",
      "[00:55:09] DEPRECATION WARNING: please use MorganGenerator\n",
      "[00:55:09] DEPRECATION WARNING: please use MorganGenerator\n"
     ]
    },
    {
     "name": "stdout",
     "output_type": "stream",
     "text": [
      "2024-08-27 00:55:09.911009\n",
      "Polymer done\n",
      "2024-08-27 00:55:13.873633\n",
      "Solvent done\n",
      "CPU times: user 176 ms, sys: 897 ms, total: 1.07 s\n",
      "Wall time: 8.57 s\n"
     ]
    },
    {
     "name": "stderr",
     "output_type": "stream",
     "text": [
      "[00:55:13] DEPRECATION WARNING: please use MorganGenerator\n",
      "[00:55:13] DEPRECATION WARNING: please use MorganGenerator\n",
      "[00:55:13] DEPRECATION WARNING: please use MorganGenerator\n",
      "[00:55:13] DEPRECATION WARNING: please use MorganGenerator\n",
      "[00:55:13] DEPRECATION WARNING: please use MorganGenerator\n",
      "[00:55:13] DEPRECATION WARNING: please use MorganGenerator\n",
      "[00:55:13] DEPRECATION WARNING: please use MorganGenerator\n",
      "[00:55:13] DEPRECATION WARNING: please use MorganGenerator\n",
      "[00:55:13] DEPRECATION WARNING: please use MorganGenerator\n"
     ]
    }
   ],
   "source": [
    "%%time\n",
    "\n",
    "print(datetime.now())\n",
    "print('Program started...')\n",
    "for key, val in uni_smis.items():\n",
    "    mols = [Chem.MolFromSmiles(x) for x in val]\n",
    "    \n",
    "    desc_data[f'{key}_rdk'] = Fingerprints(featurizers = 'DescriptorFeature', input_type='mol', on_errors='nan').transform(mols)\n",
    "    desc_data[f'{key}_rdk']['Ipc'] = np.log(desc_data[f'{key}_rdk']['Ipc'])\n",
    "    desc_data[f'{key}_rdk'].index = val\n",
    "    desc_data[f'{key}_rdk'].columns = [f'{key}_{x}' for x in desc_data[f'{key}_rdk'].columns]\n",
    "\n",
    "    print(datetime.now())\n",
    "    print(f'{key} done')\n"
   ]
  },
  {
   "cell_type": "markdown",
   "id": "c238bd6e-718f-4dbd-9bd8-892259c57276",
   "metadata": {},
   "source": [
    "#### combine descriptors"
   ]
  },
  {
   "cell_type": "code",
   "execution_count": 12,
   "id": "f7b7952f-02de-40c2-b4d5-b2a956d75640",
   "metadata": {},
   "outputs": [
    {
     "name": "stdout",
     "output_type": "stream",
     "text": [
      "   Polymer_mass_H  Polymer_mass_C  Polymer_mass_N  Polymer_mass_O  \\\n",
      "0        0.518659        0.625483        0.594272        0.531635   \n",
      "1        0.518659        0.625483        0.594272        0.531635   \n",
      "2        0.518659        0.625483        0.594272        0.531635   \n",
      "\n",
      "   Polymer_mass_F  Polymer_mass_P  Polymer_mass_S  Polymer_mass_Cl  \\\n",
      "0        0.391405        0.016476        0.010477         0.002155   \n",
      "1        0.391405        0.016476        0.010477         0.002155   \n",
      "2        0.391405        0.016476        0.010477         0.002155   \n",
      "\n",
      "   Polymer_mass_Br  Polymer_mass_I  ...  Solvent_fr_sulfide  \\\n",
      "0     8.952481e-24    8.431623e-69  ...                   0   \n",
      "1     8.952481e-24    8.431623e-69  ...                   0   \n",
      "2     8.952481e-24    8.431623e-69  ...                   0   \n",
      "\n",
      "   Solvent_fr_sulfonamd  Solvent_fr_sulfone  Solvent_fr_term_acetylene  \\\n",
      "0                     0                   0                          0   \n",
      "1                     0                   0                          0   \n",
      "2                     0                   0                          0   \n",
      "\n",
      "   Solvent_fr_tetrazole  Solvent_fr_thiazole  Solvent_fr_thiocyan  \\\n",
      "0                     0                    0                    0   \n",
      "1                     0                    0                    0   \n",
      "2                     0                    0                    0   \n",
      "\n",
      "   Solvent_fr_thiophene  Solvent_fr_unbrch_alkane  Solvent_fr_urea  \n",
      "0                     0                         0                0  \n",
      "1                     0                         0                0  \n",
      "2                     0                         0                0  \n",
      "\n",
      "[3 rows x 800 columns]\n"
     ]
    }
   ],
   "source": [
    "# desc_final is in the same format as the descriptor dataframes that are stored in the sample_data folder\n",
    "desc_final = pd.concat([desc_data['Polymer_ff'].loc[smis_poly,:].reset_index(drop=True),\n",
    "                       desc_data['Polymer_rdk'].loc[smis_poly,:].reset_index(drop=True),\n",
    "                       desc_data['Solvent_ff'].loc[smis_solv,:].reset_index(drop=True),\n",
    "                       desc_data['Solvent_rdk'].loc[smis_solv,:].reset_index(drop=True)], axis=1)\n",
    "\n",
    "print(desc_final)\n",
    "\n",
    "desc_final.to_csv('demo_data.csv', index=False)"
   ]
  },
  {
   "cell_type": "code",
   "execution_count": 2,
   "id": "631c5301-14ee-4661-be60-e24cc05ca3d0",
   "metadata": {},
   "outputs": [
    {
     "name": "stdout",
     "output_type": "stream",
     "text": [
      "['Polymer_mass_H', 'Polymer_mass_C', 'Polymer_mass_N', 'Polymer_mass_O', 'Polymer_mass_F', 'Polymer_mass_P', 'Polymer_mass_S', 'Polymer_mass_Cl', 'Polymer_mass_Br', 'Polymer_mass_I', 'Polymer_charge_0', 'Polymer_charge_1', 'Polymer_charge_2', 'Polymer_charge_3', 'Polymer_charge_4', 'Polymer_charge_5', 'Polymer_charge_6', 'Polymer_charge_7', 'Polymer_charge_8', 'Polymer_charge_9', 'Polymer_charge_10', 'Polymer_charge_11', 'Polymer_charge_12', 'Polymer_charge_13', 'Polymer_charge_14', 'Polymer_charge_15', 'Polymer_charge_16', 'Polymer_charge_17', 'Polymer_charge_18', 'Polymer_charge_19', 'Polymer_epsilon_0', 'Polymer_epsilon_1', 'Polymer_epsilon_2', 'Polymer_epsilon_3', 'Polymer_epsilon_4', 'Polymer_epsilon_5', 'Polymer_epsilon_6', 'Polymer_epsilon_7', 'Polymer_epsilon_8', 'Polymer_epsilon_9', 'Polymer_epsilon_10', 'Polymer_epsilon_11', 'Polymer_epsilon_12', 'Polymer_epsilon_13', 'Polymer_epsilon_14', 'Polymer_epsilon_15', 'Polymer_epsilon_16', 'Polymer_epsilon_17', 'Polymer_epsilon_18', 'Polymer_epsilon_19', 'Polymer_sigma_0', 'Polymer_sigma_1', 'Polymer_sigma_2', 'Polymer_sigma_3', 'Polymer_sigma_4', 'Polymer_sigma_5', 'Polymer_sigma_6', 'Polymer_sigma_7', 'Polymer_sigma_8', 'Polymer_sigma_9', 'Polymer_sigma_10', 'Polymer_sigma_11', 'Polymer_sigma_12', 'Polymer_sigma_13', 'Polymer_sigma_14', 'Polymer_sigma_15', 'Polymer_sigma_16', 'Polymer_sigma_17', 'Polymer_sigma_18', 'Polymer_sigma_19', 'Polymer_k_bond_0', 'Polymer_k_bond_1', 'Polymer_k_bond_2', 'Polymer_k_bond_3', 'Polymer_k_bond_4', 'Polymer_k_bond_5', 'Polymer_k_bond_6', 'Polymer_k_bond_7', 'Polymer_k_bond_8', 'Polymer_k_bond_9', 'Polymer_k_bond_10', 'Polymer_k_bond_11', 'Polymer_k_bond_12', 'Polymer_k_bond_13', 'Polymer_k_bond_14', 'Polymer_k_bond_15', 'Polymer_k_bond_16', 'Polymer_k_bond_17', 'Polymer_k_bond_18', 'Polymer_k_bond_19', 'Polymer_r0_0', 'Polymer_r0_1', 'Polymer_r0_2', 'Polymer_r0_3', 'Polymer_r0_4', 'Polymer_r0_5', 'Polymer_r0_6', 'Polymer_r0_7', 'Polymer_r0_8', 'Polymer_r0_9', 'Polymer_r0_10', 'Polymer_r0_11', 'Polymer_r0_12', 'Polymer_r0_13', 'Polymer_r0_14', 'Polymer_r0_15', 'Polymer_r0_16', 'Polymer_r0_17', 'Polymer_r0_18', 'Polymer_r0_19', 'Polymer_polar_0', 'Polymer_polar_1', 'Polymer_polar_2', 'Polymer_polar_3', 'Polymer_polar_4', 'Polymer_polar_5', 'Polymer_polar_6', 'Polymer_polar_7', 'Polymer_polar_8', 'Polymer_polar_9', 'Polymer_polar_10', 'Polymer_polar_11', 'Polymer_polar_12', 'Polymer_polar_13', 'Polymer_polar_14', 'Polymer_polar_15', 'Polymer_polar_16', 'Polymer_polar_17', 'Polymer_polar_18', 'Polymer_polar_19', 'Polymer_k_angle_0', 'Polymer_k_angle_1', 'Polymer_k_angle_2', 'Polymer_k_angle_3', 'Polymer_k_angle_4', 'Polymer_k_angle_5', 'Polymer_k_angle_6', 'Polymer_k_angle_7', 'Polymer_k_angle_8', 'Polymer_k_angle_9', 'Polymer_k_angle_10', 'Polymer_k_angle_11', 'Polymer_k_angle_12', 'Polymer_k_angle_13', 'Polymer_k_angle_14', 'Polymer_k_angle_15', 'Polymer_k_angle_16', 'Polymer_k_angle_17', 'Polymer_k_angle_18', 'Polymer_k_angle_19', 'Polymer_theta0_0', 'Polymer_theta0_1', 'Polymer_theta0_2', 'Polymer_theta0_3', 'Polymer_theta0_4', 'Polymer_theta0_5', 'Polymer_theta0_6', 'Polymer_theta0_7', 'Polymer_theta0_8', 'Polymer_theta0_9', 'Polymer_theta0_10', 'Polymer_theta0_11', 'Polymer_theta0_12', 'Polymer_theta0_13', 'Polymer_theta0_14', 'Polymer_theta0_15', 'Polymer_theta0_16', 'Polymer_theta0_17', 'Polymer_theta0_18', 'Polymer_theta0_19', 'Polymer_k_dih_0', 'Polymer_k_dih_1', 'Polymer_k_dih_2', 'Polymer_k_dih_3', 'Polymer_k_dih_4', 'Polymer_k_dih_5', 'Polymer_k_dih_6', 'Polymer_k_dih_7', 'Polymer_k_dih_8', 'Polymer_k_dih_9', 'Polymer_k_dih_10', 'Polymer_k_dih_11', 'Polymer_k_dih_12', 'Polymer_k_dih_13', 'Polymer_k_dih_14', 'Polymer_k_dih_15', 'Polymer_k_dih_16', 'Polymer_k_dih_17', 'Polymer_k_dih_18', 'Polymer_k_dih_19', 'Polymer_MaxAbsEStateIndex', 'Polymer_MaxEStateIndex', 'Polymer_MinAbsEStateIndex', 'Polymer_MinEStateIndex', 'Polymer_qed', 'Polymer_SPS', 'Polymer_MolWt', 'Polymer_HeavyAtomMolWt', 'Polymer_ExactMolWt', 'Polymer_NumValenceElectrons', 'Polymer_NumRadicalElectrons', 'Polymer_MaxPartialCharge', 'Polymer_MinPartialCharge', 'Polymer_MaxAbsPartialCharge', 'Polymer_MinAbsPartialCharge', 'Polymer_FpDensityMorgan1', 'Polymer_FpDensityMorgan2', 'Polymer_FpDensityMorgan3', 'Polymer_BCUT2D_MWHI', 'Polymer_BCUT2D_MWLOW', 'Polymer_BCUT2D_CHGHI', 'Polymer_BCUT2D_CHGLO', 'Polymer_BCUT2D_LOGPHI', 'Polymer_BCUT2D_LOGPLOW', 'Polymer_BCUT2D_MRHI', 'Polymer_BCUT2D_MRLOW', 'Polymer_AvgIpc', 'Polymer_BalabanJ', 'Polymer_BertzCT', 'Polymer_Chi0', 'Polymer_Chi0n', 'Polymer_Chi0v', 'Polymer_Chi1', 'Polymer_Chi1n', 'Polymer_Chi1v', 'Polymer_Chi2n', 'Polymer_Chi2v', 'Polymer_Chi3n', 'Polymer_Chi3v', 'Polymer_Chi4n', 'Polymer_Chi4v', 'Polymer_HallKierAlpha', 'Polymer_Ipc', 'Polymer_Kappa1', 'Polymer_Kappa2', 'Polymer_Kappa3', 'Polymer_LabuteASA', 'Polymer_PEOE_VSA1', 'Polymer_PEOE_VSA10', 'Polymer_PEOE_VSA11', 'Polymer_PEOE_VSA12', 'Polymer_PEOE_VSA13', 'Polymer_PEOE_VSA14', 'Polymer_PEOE_VSA2', 'Polymer_PEOE_VSA3', 'Polymer_PEOE_VSA4', 'Polymer_PEOE_VSA5', 'Polymer_PEOE_VSA6', 'Polymer_PEOE_VSA7', 'Polymer_PEOE_VSA8', 'Polymer_PEOE_VSA9', 'Polymer_SMR_VSA1', 'Polymer_SMR_VSA10', 'Polymer_SMR_VSA2', 'Polymer_SMR_VSA3', 'Polymer_SMR_VSA4', 'Polymer_SMR_VSA5', 'Polymer_SMR_VSA6', 'Polymer_SMR_VSA7', 'Polymer_SMR_VSA8', 'Polymer_SMR_VSA9', 'Polymer_SlogP_VSA1', 'Polymer_SlogP_VSA10', 'Polymer_SlogP_VSA11', 'Polymer_SlogP_VSA12', 'Polymer_SlogP_VSA2', 'Polymer_SlogP_VSA3', 'Polymer_SlogP_VSA4', 'Polymer_SlogP_VSA5', 'Polymer_SlogP_VSA6', 'Polymer_SlogP_VSA7', 'Polymer_SlogP_VSA8', 'Polymer_SlogP_VSA9', 'Polymer_TPSA', 'Polymer_EState_VSA1', 'Polymer_EState_VSA10', 'Polymer_EState_VSA11', 'Polymer_EState_VSA2', 'Polymer_EState_VSA3', 'Polymer_EState_VSA4', 'Polymer_EState_VSA5', 'Polymer_EState_VSA6', 'Polymer_EState_VSA7', 'Polymer_EState_VSA8', 'Polymer_EState_VSA9', 'Polymer_VSA_EState1', 'Polymer_VSA_EState10', 'Polymer_VSA_EState2', 'Polymer_VSA_EState3', 'Polymer_VSA_EState4', 'Polymer_VSA_EState5', 'Polymer_VSA_EState6', 'Polymer_VSA_EState7', 'Polymer_VSA_EState8', 'Polymer_VSA_EState9', 'Polymer_FractionCSP3', 'Polymer_HeavyAtomCount', 'Polymer_NHOHCount', 'Polymer_NOCount', 'Polymer_NumAliphaticCarbocycles', 'Polymer_NumAliphaticHeterocycles', 'Polymer_NumAliphaticRings', 'Polymer_NumAromaticCarbocycles', 'Polymer_NumAromaticHeterocycles', 'Polymer_NumAromaticRings', 'Polymer_NumHAcceptors', 'Polymer_NumHDonors', 'Polymer_NumHeteroatoms', 'Polymer_NumRotatableBonds', 'Polymer_NumSaturatedCarbocycles', 'Polymer_NumSaturatedHeterocycles', 'Polymer_NumSaturatedRings', 'Polymer_RingCount', 'Polymer_MolLogP', 'Polymer_MolMR', 'Polymer_fr_Al_COO', 'Polymer_fr_Al_OH', 'Polymer_fr_Al_OH_noTert', 'Polymer_fr_ArN', 'Polymer_fr_Ar_COO', 'Polymer_fr_Ar_N', 'Polymer_fr_Ar_NH', 'Polymer_fr_Ar_OH', 'Polymer_fr_COO', 'Polymer_fr_COO2', 'Polymer_fr_C_O', 'Polymer_fr_C_O_noCOO', 'Polymer_fr_C_S', 'Polymer_fr_HOCCN', 'Polymer_fr_Imine', 'Polymer_fr_NH0', 'Polymer_fr_NH1', 'Polymer_fr_NH2', 'Polymer_fr_N_O', 'Polymer_fr_Ndealkylation1', 'Polymer_fr_Ndealkylation2', 'Polymer_fr_Nhpyrrole', 'Polymer_fr_SH', 'Polymer_fr_aldehyde', 'Polymer_fr_alkyl_carbamate', 'Polymer_fr_alkyl_halide', 'Polymer_fr_allylic_oxid', 'Polymer_fr_amide', 'Polymer_fr_amidine', 'Polymer_fr_aniline', 'Polymer_fr_aryl_methyl', 'Polymer_fr_azide', 'Polymer_fr_azo', 'Polymer_fr_barbitur', 'Polymer_fr_benzene', 'Polymer_fr_benzodiazepine', 'Polymer_fr_bicyclic', 'Polymer_fr_diazo', 'Polymer_fr_dihydropyridine', 'Polymer_fr_epoxide', 'Polymer_fr_ester', 'Polymer_fr_ether', 'Polymer_fr_furan', 'Polymer_fr_guanido', 'Polymer_fr_halogen', 'Polymer_fr_hdrzine', 'Polymer_fr_hdrzone', 'Polymer_fr_imidazole', 'Polymer_fr_imide', 'Polymer_fr_isocyan', 'Polymer_fr_isothiocyan', 'Polymer_fr_ketone', 'Polymer_fr_ketone_Topliss', 'Polymer_fr_lactam', 'Polymer_fr_lactone', 'Polymer_fr_methoxy', 'Polymer_fr_morpholine', 'Polymer_fr_nitrile', 'Polymer_fr_nitro', 'Polymer_fr_nitro_arom', 'Polymer_fr_nitro_arom_nonortho', 'Polymer_fr_nitroso', 'Polymer_fr_oxazole', 'Polymer_fr_oxime', 'Polymer_fr_para_hydroxylation', 'Polymer_fr_phenol', 'Polymer_fr_phenol_noOrthoHbond', 'Polymer_fr_phos_acid', 'Polymer_fr_phos_ester', 'Polymer_fr_piperdine', 'Polymer_fr_piperzine', 'Polymer_fr_priamide', 'Polymer_fr_prisulfonamd', 'Polymer_fr_pyridine', 'Polymer_fr_quatN', 'Polymer_fr_sulfide', 'Polymer_fr_sulfonamd', 'Polymer_fr_sulfone', 'Polymer_fr_term_acetylene', 'Polymer_fr_tetrazole', 'Polymer_fr_thiazole', 'Polymer_fr_thiocyan', 'Polymer_fr_thiophene', 'Polymer_fr_unbrch_alkane', 'Polymer_fr_urea', 'Solvent_mass_H', 'Solvent_mass_C', 'Solvent_mass_N', 'Solvent_mass_O', 'Solvent_mass_F', 'Solvent_mass_P', 'Solvent_mass_S', 'Solvent_mass_Cl', 'Solvent_mass_Br', 'Solvent_mass_I', 'Solvent_charge_0', 'Solvent_charge_1', 'Solvent_charge_2', 'Solvent_charge_3', 'Solvent_charge_4', 'Solvent_charge_5', 'Solvent_charge_6', 'Solvent_charge_7', 'Solvent_charge_8', 'Solvent_charge_9', 'Solvent_charge_10', 'Solvent_charge_11', 'Solvent_charge_12', 'Solvent_charge_13', 'Solvent_charge_14', 'Solvent_charge_15', 'Solvent_charge_16', 'Solvent_charge_17', 'Solvent_charge_18', 'Solvent_charge_19', 'Solvent_epsilon_0', 'Solvent_epsilon_1', 'Solvent_epsilon_2', 'Solvent_epsilon_3', 'Solvent_epsilon_4', 'Solvent_epsilon_5', 'Solvent_epsilon_6', 'Solvent_epsilon_7', 'Solvent_epsilon_8', 'Solvent_epsilon_9', 'Solvent_epsilon_10', 'Solvent_epsilon_11', 'Solvent_epsilon_12', 'Solvent_epsilon_13', 'Solvent_epsilon_14', 'Solvent_epsilon_15', 'Solvent_epsilon_16', 'Solvent_epsilon_17', 'Solvent_epsilon_18', 'Solvent_epsilon_19', 'Solvent_sigma_0', 'Solvent_sigma_1', 'Solvent_sigma_2', 'Solvent_sigma_3', 'Solvent_sigma_4', 'Solvent_sigma_5', 'Solvent_sigma_6', 'Solvent_sigma_7', 'Solvent_sigma_8', 'Solvent_sigma_9', 'Solvent_sigma_10', 'Solvent_sigma_11', 'Solvent_sigma_12', 'Solvent_sigma_13', 'Solvent_sigma_14', 'Solvent_sigma_15', 'Solvent_sigma_16', 'Solvent_sigma_17', 'Solvent_sigma_18', 'Solvent_sigma_19', 'Solvent_k_bond_0', 'Solvent_k_bond_1', 'Solvent_k_bond_2', 'Solvent_k_bond_3', 'Solvent_k_bond_4', 'Solvent_k_bond_5', 'Solvent_k_bond_6', 'Solvent_k_bond_7', 'Solvent_k_bond_8', 'Solvent_k_bond_9', 'Solvent_k_bond_10', 'Solvent_k_bond_11', 'Solvent_k_bond_12', 'Solvent_k_bond_13', 'Solvent_k_bond_14', 'Solvent_k_bond_15', 'Solvent_k_bond_16', 'Solvent_k_bond_17', 'Solvent_k_bond_18', 'Solvent_k_bond_19', 'Solvent_r0_0', 'Solvent_r0_1', 'Solvent_r0_2', 'Solvent_r0_3', 'Solvent_r0_4', 'Solvent_r0_5', 'Solvent_r0_6', 'Solvent_r0_7', 'Solvent_r0_8', 'Solvent_r0_9', 'Solvent_r0_10', 'Solvent_r0_11', 'Solvent_r0_12', 'Solvent_r0_13', 'Solvent_r0_14', 'Solvent_r0_15', 'Solvent_r0_16', 'Solvent_r0_17', 'Solvent_r0_18', 'Solvent_r0_19', 'Solvent_polar_0', 'Solvent_polar_1', 'Solvent_polar_2', 'Solvent_polar_3', 'Solvent_polar_4', 'Solvent_polar_5', 'Solvent_polar_6', 'Solvent_polar_7', 'Solvent_polar_8', 'Solvent_polar_9', 'Solvent_polar_10', 'Solvent_polar_11', 'Solvent_polar_12', 'Solvent_polar_13', 'Solvent_polar_14', 'Solvent_polar_15', 'Solvent_polar_16', 'Solvent_polar_17', 'Solvent_polar_18', 'Solvent_polar_19', 'Solvent_k_angle_0', 'Solvent_k_angle_1', 'Solvent_k_angle_2', 'Solvent_k_angle_3', 'Solvent_k_angle_4', 'Solvent_k_angle_5', 'Solvent_k_angle_6', 'Solvent_k_angle_7', 'Solvent_k_angle_8', 'Solvent_k_angle_9', 'Solvent_k_angle_10', 'Solvent_k_angle_11', 'Solvent_k_angle_12', 'Solvent_k_angle_13', 'Solvent_k_angle_14', 'Solvent_k_angle_15', 'Solvent_k_angle_16', 'Solvent_k_angle_17', 'Solvent_k_angle_18', 'Solvent_k_angle_19', 'Solvent_theta0_0', 'Solvent_theta0_1', 'Solvent_theta0_2', 'Solvent_theta0_3', 'Solvent_theta0_4', 'Solvent_theta0_5', 'Solvent_theta0_6', 'Solvent_theta0_7', 'Solvent_theta0_8', 'Solvent_theta0_9', 'Solvent_theta0_10', 'Solvent_theta0_11', 'Solvent_theta0_12', 'Solvent_theta0_13', 'Solvent_theta0_14', 'Solvent_theta0_15', 'Solvent_theta0_16', 'Solvent_theta0_17', 'Solvent_theta0_18', 'Solvent_theta0_19', 'Solvent_k_dih_0', 'Solvent_k_dih_1', 'Solvent_k_dih_2', 'Solvent_k_dih_3', 'Solvent_k_dih_4', 'Solvent_k_dih_5', 'Solvent_k_dih_6', 'Solvent_k_dih_7', 'Solvent_k_dih_8', 'Solvent_k_dih_9', 'Solvent_k_dih_10', 'Solvent_k_dih_11', 'Solvent_k_dih_12', 'Solvent_k_dih_13', 'Solvent_k_dih_14', 'Solvent_k_dih_15', 'Solvent_k_dih_16', 'Solvent_k_dih_17', 'Solvent_k_dih_18', 'Solvent_k_dih_19', 'Solvent_MaxAbsEStateIndex', 'Solvent_MaxEStateIndex', 'Solvent_MinAbsEStateIndex', 'Solvent_MinEStateIndex', 'Solvent_qed', 'Solvent_SPS', 'Solvent_MolWt', 'Solvent_HeavyAtomMolWt', 'Solvent_ExactMolWt', 'Solvent_NumValenceElectrons', 'Solvent_NumRadicalElectrons', 'Solvent_MaxPartialCharge', 'Solvent_MinPartialCharge', 'Solvent_MaxAbsPartialCharge', 'Solvent_MinAbsPartialCharge', 'Solvent_FpDensityMorgan1', 'Solvent_FpDensityMorgan2', 'Solvent_FpDensityMorgan3', 'Solvent_BCUT2D_MWHI', 'Solvent_BCUT2D_MWLOW', 'Solvent_BCUT2D_CHGHI', 'Solvent_BCUT2D_CHGLO', 'Solvent_BCUT2D_LOGPHI', 'Solvent_BCUT2D_LOGPLOW', 'Solvent_BCUT2D_MRHI', 'Solvent_BCUT2D_MRLOW', 'Solvent_AvgIpc', 'Solvent_BalabanJ', 'Solvent_BertzCT', 'Solvent_Chi0', 'Solvent_Chi0n', 'Solvent_Chi0v', 'Solvent_Chi1', 'Solvent_Chi1n', 'Solvent_Chi1v', 'Solvent_Chi2n', 'Solvent_Chi2v', 'Solvent_Chi3n', 'Solvent_Chi3v', 'Solvent_Chi4n', 'Solvent_Chi4v', 'Solvent_HallKierAlpha', 'Solvent_Ipc', 'Solvent_Kappa1', 'Solvent_Kappa2', 'Solvent_Kappa3', 'Solvent_LabuteASA', 'Solvent_PEOE_VSA1', 'Solvent_PEOE_VSA10', 'Solvent_PEOE_VSA11', 'Solvent_PEOE_VSA12', 'Solvent_PEOE_VSA13', 'Solvent_PEOE_VSA14', 'Solvent_PEOE_VSA2', 'Solvent_PEOE_VSA3', 'Solvent_PEOE_VSA4', 'Solvent_PEOE_VSA5', 'Solvent_PEOE_VSA6', 'Solvent_PEOE_VSA7', 'Solvent_PEOE_VSA8', 'Solvent_PEOE_VSA9', 'Solvent_SMR_VSA1', 'Solvent_SMR_VSA10', 'Solvent_SMR_VSA2', 'Solvent_SMR_VSA3', 'Solvent_SMR_VSA4', 'Solvent_SMR_VSA5', 'Solvent_SMR_VSA6', 'Solvent_SMR_VSA7', 'Solvent_SMR_VSA8', 'Solvent_SMR_VSA9', 'Solvent_SlogP_VSA1', 'Solvent_SlogP_VSA10', 'Solvent_SlogP_VSA11', 'Solvent_SlogP_VSA12', 'Solvent_SlogP_VSA2', 'Solvent_SlogP_VSA3', 'Solvent_SlogP_VSA4', 'Solvent_SlogP_VSA5', 'Solvent_SlogP_VSA6', 'Solvent_SlogP_VSA7', 'Solvent_SlogP_VSA8', 'Solvent_SlogP_VSA9', 'Solvent_TPSA', 'Solvent_EState_VSA1', 'Solvent_EState_VSA10', 'Solvent_EState_VSA11', 'Solvent_EState_VSA2', 'Solvent_EState_VSA3', 'Solvent_EState_VSA4', 'Solvent_EState_VSA5', 'Solvent_EState_VSA6', 'Solvent_EState_VSA7', 'Solvent_EState_VSA8', 'Solvent_EState_VSA9', 'Solvent_VSA_EState1', 'Solvent_VSA_EState10', 'Solvent_VSA_EState2', 'Solvent_VSA_EState3', 'Solvent_VSA_EState4', 'Solvent_VSA_EState5', 'Solvent_VSA_EState6', 'Solvent_VSA_EState7', 'Solvent_VSA_EState8', 'Solvent_VSA_EState9', 'Solvent_FractionCSP3', 'Solvent_HeavyAtomCount', 'Solvent_NHOHCount', 'Solvent_NOCount', 'Solvent_NumAliphaticCarbocycles', 'Solvent_NumAliphaticHeterocycles', 'Solvent_NumAliphaticRings', 'Solvent_NumAromaticCarbocycles', 'Solvent_NumAromaticHeterocycles', 'Solvent_NumAromaticRings', 'Solvent_NumHAcceptors', 'Solvent_NumHDonors', 'Solvent_NumHeteroatoms', 'Solvent_NumRotatableBonds', 'Solvent_NumSaturatedCarbocycles', 'Solvent_NumSaturatedHeterocycles', 'Solvent_NumSaturatedRings', 'Solvent_RingCount', 'Solvent_MolLogP', 'Solvent_MolMR', 'Solvent_fr_Al_COO', 'Solvent_fr_Al_OH', 'Solvent_fr_Al_OH_noTert', 'Solvent_fr_ArN', 'Solvent_fr_Ar_COO', 'Solvent_fr_Ar_N', 'Solvent_fr_Ar_NH', 'Solvent_fr_Ar_OH', 'Solvent_fr_COO', 'Solvent_fr_COO2', 'Solvent_fr_C_O', 'Solvent_fr_C_O_noCOO', 'Solvent_fr_C_S', 'Solvent_fr_HOCCN', 'Solvent_fr_Imine', 'Solvent_fr_NH0', 'Solvent_fr_NH1', 'Solvent_fr_NH2', 'Solvent_fr_N_O', 'Solvent_fr_Ndealkylation1', 'Solvent_fr_Ndealkylation2', 'Solvent_fr_Nhpyrrole', 'Solvent_fr_SH', 'Solvent_fr_aldehyde', 'Solvent_fr_alkyl_carbamate', 'Solvent_fr_alkyl_halide', 'Solvent_fr_allylic_oxid', 'Solvent_fr_amide', 'Solvent_fr_amidine', 'Solvent_fr_aniline', 'Solvent_fr_aryl_methyl', 'Solvent_fr_azide', 'Solvent_fr_azo', 'Solvent_fr_barbitur', 'Solvent_fr_benzene', 'Solvent_fr_benzodiazepine', 'Solvent_fr_bicyclic', 'Solvent_fr_diazo', 'Solvent_fr_dihydropyridine', 'Solvent_fr_epoxide', 'Solvent_fr_ester', 'Solvent_fr_ether', 'Solvent_fr_furan', 'Solvent_fr_guanido', 'Solvent_fr_halogen', 'Solvent_fr_hdrzine', 'Solvent_fr_hdrzone', 'Solvent_fr_imidazole', 'Solvent_fr_imide', 'Solvent_fr_isocyan', 'Solvent_fr_isothiocyan', 'Solvent_fr_ketone', 'Solvent_fr_ketone_Topliss', 'Solvent_fr_lactam', 'Solvent_fr_lactone', 'Solvent_fr_methoxy', 'Solvent_fr_morpholine', 'Solvent_fr_nitrile', 'Solvent_fr_nitro', 'Solvent_fr_nitro_arom', 'Solvent_fr_nitro_arom_nonortho', 'Solvent_fr_nitroso', 'Solvent_fr_oxazole', 'Solvent_fr_oxime', 'Solvent_fr_para_hydroxylation', 'Solvent_fr_phenol', 'Solvent_fr_phenol_noOrthoHbond', 'Solvent_fr_phos_acid', 'Solvent_fr_phos_ester', 'Solvent_fr_piperdine', 'Solvent_fr_piperzine', 'Solvent_fr_priamide', 'Solvent_fr_prisulfonamd', 'Solvent_fr_pyridine', 'Solvent_fr_quatN', 'Solvent_fr_sulfide', 'Solvent_fr_sulfonamd', 'Solvent_fr_sulfone', 'Solvent_fr_term_acetylene', 'Solvent_fr_tetrazole', 'Solvent_fr_thiazole', 'Solvent_fr_thiocyan', 'Solvent_fr_thiophene', 'Solvent_fr_unbrch_alkane', 'Solvent_fr_urea']\n",
      "Column 'Polymer_mass_H' is present.\n"
     ]
    }
   ],
   "source": [
    "import pandas as pd\n",
    "\n",
    "# Load the CSV file\n",
    "df = pd.read_csv('demo_data/demo_desc.csv')\n",
    "\n",
    "# Print the column names\n",
    "print(df.columns.tolist())\n",
    "\n",
    "# Check if 'Polymer_mass_H' is in the columns\n",
    "if 'Polymer_mass_H' in df.columns:\n",
    "    print(\"Column 'Polymer_mass_H' is present.\")\n",
    "else:\n",
    "    print(\"Column 'Polymer_mass_H' is missing.\")"
   ]
  }
 ],
 "metadata": {
  "kernelspec": {
   "display_name": "Python 3 (ipykernel)",
   "language": "python",
   "name": "python3"
  },
  "language_info": {
   "codemirror_mode": {
    "name": "ipython",
    "version": 3
   },
   "file_extension": ".py",
   "mimetype": "text/x-python",
   "name": "python",
   "nbconvert_exporter": "python",
   "pygments_lexer": "ipython3",
   "version": "3.8.12"
  }
 },
 "nbformat": 4,
 "nbformat_minor": 5
}
