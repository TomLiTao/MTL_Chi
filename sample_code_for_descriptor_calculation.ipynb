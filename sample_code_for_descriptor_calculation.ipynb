{
 "cells": [
  {
   "cell_type": "code",
   "execution_count": 7,
   "id": "397569d8-9234-4b3e-aaa7-be5e6e0a564d",
   "metadata": {},
   "outputs": [
    {
     "name": "stderr",
     "output_type": "stream",
     "text": [
      "/home/lulab/mambaforge/envs/ML_poly/lib/python3.8/site-packages/tqdm/auto.py:21: TqdmWarning: IProgress not found. Please update jupyter and ipywidgets. See https://ipywidgets.readthedocs.io/en/stable/user_install.html\n",
      "  from .autonotebook import tqdm as notebook_tqdm\n"
     ]
    }
   ],
   "source": [
    "import pandas as pd\n",
    "import numpy as np\n",
    "import pickle as pk\n",
    "import os\n",
    "import sys\n",
    "\n",
    "from rdkit import Chem\n",
    "\n",
    "from datetime import datetime\n",
    "import matplotlib.pyplot as plt\n",
    "\n",
    "from IPython.core.interactiveshell import InteractiveShell\n",
    "InteractiveShell.ast_node_interactivity = \"all\"\n",
    "\n",
    "from xenonpy.descriptor import Fingerprints\n",
    "import xenonpy\n",
    "xenonpy.__version__\n",
    "\n",
    "from tqdm.autonotebook import tqdm\n",
    "from radonpy.core import poly, calc, const\n",
    "from radonpy.ff.gaff2 import GAFF2\n",
    "from radonpy.ff.descriptor import FF_descriptor\n",
    "const.print_level = 1\n"
   ]
  },
  {
   "cell_type": "markdown",
   "id": "3397aa8f-f570-48df-87ab-0086e7b28ad2",
   "metadata": {},
   "source": [
    "### Prepare cyclic SMILES for polymers"
   ]
  },
  {
   "cell_type": "markdown",
   "id": "933e51e8-eeeb-4e34-8329-e424fea90843",
   "metadata": {},
   "source": [
    "The sample codes below demonstrate how to use radonpy to produce SMILES that represents a polymer that undergoes the following two operations:\n",
    "1. Make N copies of the repeating unit of a polymer and connect them sequentially (head to tail) that results in a long polymer chain\n",
    "2. Connect the head and tail of the long polymer chain to make a cyclic polymer used to mimic an infinitely long polymer chain\n",
    "\n",
    "Note that the original polymer SMILES is assumed to have exactly two '*'s that represent the head and tail of a polymer"
   ]
  },
  {
   "cell_type": "code",
   "execution_count": 9,
   "id": "952c6ff1-a8cd-4b82-8305-93ebf1cd35ca",
   "metadata": {},
   "outputs": [],
   "source": [
    "N_cyclic = 10 # number of repeating unit for the long polymer chain\n",
    "\n",
    "smis_single = ['*C(CC)CC*', '*c1ccc(C*)cc1'] # two examples of polymer SMILES\n",
    "\n",
    "smis_cyclic = [poly.make_cyclicpolymer(x, n=N_cyclic) for x in smis_single]\n"
   ]
  },
  {
   "cell_type": "markdown",
   "id": "185ad1b2-a53f-4bb3-bfb7-9f514e9cb424",
   "metadata": {},
   "source": [
    "### Calculate descriptors for polymers and solvents"
   ]
  },
  {
   "cell_type": "markdown",
   "id": "455f990a-d281-4fbc-b8cb-8fa1d4a224ea",
   "metadata": {},
   "source": [
    "#### data preparation"
   ]
  },
  {
   "cell_type": "markdown",
   "id": "3edd14d1-c735-45d2-98d3-5e0647b61757",
   "metadata": {},
   "source": [
    "Load data: in our data file, SMILES of polymers and solvents are connected with '_' initially. "
   ]
  },
  {
   "cell_type": "code",
   "execution_count": 5,
   "id": "3c226557-bdae-4291-bccb-1f9df29ae277",
   "metadata": {},
   "outputs": [],
   "source": [
    "data = pd.read_csv('demo_data/demo_smiles.csv', index_col=0)\n",
    "smis_poly = []\n",
    "smis_solv = []\n",
    "for smi in data['ps_pair'].values:\n",
    "    tmp = smi.split('_')\n",
    "    smis_poly.append(tmp[0])\n",
    "    smis_solv.append(tmp[1])\n",
    "    "
   ]
  },
  {
   "cell_type": "code",
   "execution_count": 1,
   "id": "d25a5d07",
   "metadata": {},
   "outputs": [],
   "source": [
    "import pandas as pd\n",
    "\n",
    "# Manually enter polymer and solvent SMILES strings\n",
    "polymer_smiles = ['C1=CC(=CC=C1C(=O)O)C(=O)O.C(CO)O', 'C1=CC(=CC=C1C(=O)O)C(=O)O.C(CO)O', 'C1=CC(=CC=C1C(=O)O)C(=O)O.C(CO)O']\n",
    "solvent_smiles = ['[Br]Br', '[H]/C(Cl)=C(Cl)\\Cl', '[H][C]([H])([N+]([O-])=O)[H]']\n",
    "ps_pair = ['C1=CC(=CC=C1C(=O)O)C(=O)O.C(CO)O_[Br]Br', 'C1=CC(=CC=C1C(=O)O)C(=O)O.C(CO)O_[H]/C(Cl)=C(Cl)\\Cl', 'C1=CC(=CC=C1C(=O)O)C(=O)O.C(CO)O_[H][C]([H])([N+]([O-])=O)[H]']\n",
    "temp = ['100.0', '100.0', '100.0']\n",
    "# Create a dataframe with the SMILES strings\n",
    "data = pd.DataFrame({'Polymer': polymer_smiles, 'Solvent': solvent_smiles, 'ps_pair': ps_pair, 'temp': temp})\n",
    "\n",
    "# Save the dataframe to a CSV file\n",
    "data.to_csv('demo_data/demo_smiles.csv', index=True)"
   ]
  },
  {
   "cell_type": "code",
   "execution_count": 8,
   "id": "b1cf3e4e-f478-4211-9d0d-f736d6b6b50d",
   "metadata": {},
   "outputs": [
    {
     "name": "stdout",
     "output_type": "stream",
     "text": [
      "Unique number of polymer SMILES: 1\n",
      "Unique number of solvent SMILES: 3\n"
     ]
    }
   ],
   "source": [
    "# extract the unique SMILES of polymers and solvents\n",
    "uni_poly = np.unique(smis_poly)\n",
    "uni_solv = np.unique(smis_solv)\n",
    "\n",
    "print(f'Unique number of polymer SMILES: {uni_poly.shape[0]}')\n",
    "print(f'Unique number of solvent SMILES: {uni_solv.shape[0]}')\n"
   ]
  },
  {
   "cell_type": "markdown",
   "id": "4a79d2a0-ffb1-4d74-b50d-4af3fe0907a7",
   "metadata": {},
   "source": [
    "To save time, we only calculate the unique SMILES and the assemble the descriptor for each polymer-solvent pair afterward."
   ]
  },
  {
   "cell_type": "code",
   "execution_count": 9,
   "id": "dde6c6b3-9fb5-466e-b530-e91f062ccee2",
   "metadata": {},
   "outputs": [],
   "source": [
    "# set up a dictionary for descriptor calculation\n",
    "uni_smis = {'Polymer': uni_poly, 'Solvent': uni_solv}\n",
    "\n",
    "# set up a dictionary to store all descriptors\n",
    "desc_data = {}\n"
   ]
  },
  {
   "cell_type": "markdown",
   "id": "967e5fd9-104e-4838-a287-de92cc3af6a4",
   "metadata": {},
   "source": [
    "Note that the final SMILES that we are using for the descriptor calculation contains 'H's explicitly. If the SMILES you have (for both the cyclic polymers and solvents) does not have explicit 'H' representation, please use the follow sample code to modify the SMILES."
   ]
  },
  {
   "cell_type": "code",
   "execution_count": 13,
   "id": "2e4d186c-9b53-4992-bdc9-952b7638b9e0",
   "metadata": {},
   "outputs": [],
   "source": [
    "smis_noHs = ['CCl', 'ClCCl']\n",
    "smis_addHs = [Chem.MolToSmiles(Chem.AddHs(Chem.MolFromSmiles(x))) for x in smis_noHs]\n"
   ]
  },
  {
   "cell_type": "markdown",
   "id": "cde1f093-6633-414b-a594-854407587dd7",
   "metadata": {},
   "source": [
    "#### calculate Force-field descriptors using radonpy"
   ]
  },
  {
   "cell_type": "code",
   "execution_count": 10,
   "id": "7c86350e-095d-403d-8d3a-dc03a1535a62",
   "metadata": {
    "collapsed": true,
    "jupyter": {
     "outputs_hidden": true
    },
    "tags": []
   },
   "outputs": [
    {
     "name": "stdout",
     "output_type": "stream",
     "text": [
      "2024-08-27 00:54:59.499304\n",
      "Polymer done\n",
      "2024-08-27 00:55:01.892503\n",
      "Solvent done\n",
      "All done!\n"
     ]
    }
   ],
   "source": [
    "# parameters for force-field descriptors\n",
    "nk = 20\n",
    "sigma = 1/nk/2\n",
    "\n",
    "for key, val in uni_smis.items():\n",
    "    try:\n",
    "        ff = GAFF2()\n",
    "        ff_desc = FF_descriptor(ff, polar=True)\n",
    "        desc_names = ff_desc.ffkm_desc_names(nk=nk)\n",
    "\n",
    "        desc = ff_desc.ffkm_mp(list(val), nk=nk, s=sigma, cyclic=0)\n",
    "            \n",
    "        desc_data[f'{key}_ff'] = pd.DataFrame(desc, columns=[f'{key}_{x}' for x in desc_names], index=val)\n",
    "        \n",
    "        print(datetime.now())\n",
    "        print(f'{key} done')\n",
    "        \n",
    "    except:\n",
    "        print(f'{key} failed')\n",
    "        pass\n",
    "    \n",
    "print('All done!')\n"
   ]
  },
  {
   "cell_type": "markdown",
   "id": "2c5a049c-09f4-46ff-8123-9f5978215d96",
   "metadata": {},
   "source": [
    "#### calculate descriptors from rdkit using xenonpy"
   ]
  },
  {
   "cell_type": "code",
   "execution_count": 11,
   "id": "e43bf4ec-e6ea-4897-8405-7f0862b0c4a0",
   "metadata": {
    "collapsed": true,
    "jupyter": {
     "outputs_hidden": true
    },
    "tags": []
   },
   "outputs": [
    {
     "name": "stdout",
     "output_type": "stream",
     "text": [
      "2024-08-27 00:55:05.307669\n",
      "Program started...\n"
     ]
    },
    {
     "name": "stderr",
     "output_type": "stream",
     "text": [
      "[00:55:09] DEPRECATION WARNING: please use MorganGenerator\n",
      "[00:55:09] DEPRECATION WARNING: please use MorganGenerator\n",
      "[00:55:09] DEPRECATION WARNING: please use MorganGenerator\n"
     ]
    },
    {
     "name": "stdout",
     "output_type": "stream",
     "text": [
      "2024-08-27 00:55:09.911009\n",
      "Polymer done\n",
      "2024-08-27 00:55:13.873633\n",
      "Solvent done\n",
      "CPU times: user 176 ms, sys: 897 ms, total: 1.07 s\n",
      "Wall time: 8.57 s\n"
     ]
    },
    {
     "name": "stderr",
     "output_type": "stream",
     "text": [
      "[00:55:13] DEPRECATION WARNING: please use MorganGenerator\n",
      "[00:55:13] DEPRECATION WARNING: please use MorganGenerator\n",
      "[00:55:13] DEPRECATION WARNING: please use MorganGenerator\n",
      "[00:55:13] DEPRECATION WARNING: please use MorganGenerator\n",
      "[00:55:13] DEPRECATION WARNING: please use MorganGenerator\n",
      "[00:55:13] DEPRECATION WARNING: please use MorganGenerator\n",
      "[00:55:13] DEPRECATION WARNING: please use MorganGenerator\n",
      "[00:55:13] DEPRECATION WARNING: please use MorganGenerator\n",
      "[00:55:13] DEPRECATION WARNING: please use MorganGenerator\n"
     ]
    }
   ],
   "source": [
    "%%time\n",
    "\n",
    "print(datetime.now())\n",
    "print('Program started...')\n",
    "for key, val in uni_smis.items():\n",
    "    mols = [Chem.MolFromSmiles(x) for x in val]\n",
    "    \n",
    "    desc_data[f'{key}_rdk'] = Fingerprints(featurizers = 'DescriptorFeature', input_type='mol', on_errors='nan').transform(mols)\n",
    "    desc_data[f'{key}_rdk']['Ipc'] = np.log(desc_data[f'{key}_rdk']['Ipc'])\n",
    "    desc_data[f'{key}_rdk'].index = val\n",
    "    desc_data[f'{key}_rdk'].columns = [f'{key}_{x}' for x in desc_data[f'{key}_rdk'].columns]\n",
    "\n",
    "    print(datetime.now())\n",
    "    print(f'{key} done')\n"
   ]
  },
  {
   "cell_type": "markdown",
   "id": "c238bd6e-718f-4dbd-9bd8-892259c57276",
   "metadata": {},
   "source": [
    "#### combine descriptors"
   ]
  },
  {
   "cell_type": "code",
   "execution_count": 12,
   "id": "f7b7952f-02de-40c2-b4d5-b2a956d75640",
   "metadata": {},
   "outputs": [
    {
     "name": "stdout",
     "output_type": "stream",
     "text": [
      "   Polymer_mass_H  Polymer_mass_C  Polymer_mass_N  Polymer_mass_O  \\\n",
      "0        0.518659        0.625483        0.594272        0.531635   \n",
      "1        0.518659        0.625483        0.594272        0.531635   \n",
      "2        0.518659        0.625483        0.594272        0.531635   \n",
      "\n",
      "   Polymer_mass_F  Polymer_mass_P  Polymer_mass_S  Polymer_mass_Cl  \\\n",
      "0        0.391405        0.016476        0.010477         0.002155   \n",
      "1        0.391405        0.016476        0.010477         0.002155   \n",
      "2        0.391405        0.016476        0.010477         0.002155   \n",
      "\n",
      "   Polymer_mass_Br  Polymer_mass_I  ...  Solvent_fr_sulfide  \\\n",
      "0     8.952481e-24    8.431623e-69  ...                   0   \n",
      "1     8.952481e-24    8.431623e-69  ...                   0   \n",
      "2     8.952481e-24    8.431623e-69  ...                   0   \n",
      "\n",
      "   Solvent_fr_sulfonamd  Solvent_fr_sulfone  Solvent_fr_term_acetylene  \\\n",
      "0                     0                   0                          0   \n",
      "1                     0                   0                          0   \n",
      "2                     0                   0                          0   \n",
      "\n",
      "   Solvent_fr_tetrazole  Solvent_fr_thiazole  Solvent_fr_thiocyan  \\\n",
      "0                     0                    0                    0   \n",
      "1                     0                    0                    0   \n",
      "2                     0                    0                    0   \n",
      "\n",
      "   Solvent_fr_thiophene  Solvent_fr_unbrch_alkane  Solvent_fr_urea  \n",
      "0                     0                         0                0  \n",
      "1                     0                         0                0  \n",
      "2                     0                         0                0  \n",
      "\n",
      "[3 rows x 800 columns]\n"
     ]
    }
   ],
   "source": [
    "# desc_final is in the same format as the descriptor dataframes that are stored in the sample_data folder\n",
    "desc_final = pd.concat([desc_data['Polymer_ff'].loc[smis_poly,:].reset_index(drop=True),\n",
    "                       desc_data['Polymer_rdk'].loc[smis_poly,:].reset_index(drop=True),\n",
    "                       desc_data['Solvent_ff'].loc[smis_solv,:].reset_index(drop=True),\n",
    "                       desc_data['Solvent_rdk'].loc[smis_solv,:].reset_index(drop=True)], axis=1)\n",
    "\n",
    "print(desc_final)\n",
    "\n",
    "desc_final.to_csv('demo_data.csv', index=False)"
   ]
  },
  {
   "cell_type": "code",
   "execution_count": 4,
   "id": "631c5301-14ee-4661-be60-e24cc05ca3d0",
   "metadata": {},
   "outputs": [
    {
     "name": "stdout",
     "output_type": "stream",
     "text": [
      "Column 'Polymer_mass_H' is present.\n",
      "   Polymer_mass_H  Polymer_mass_C  Polymer_mass_N  Polymer_mass_O  \\\n",
      "0        0.518659        0.625483        0.594272        0.531635   \n",
      "1        0.518659        0.625483        0.594272        0.531635   \n",
      "2        0.518659        0.625483        0.594272        0.531635   \n",
      "\n",
      "   Polymer_mass_F  Polymer_mass_P  Polymer_mass_S  Polymer_mass_Cl  \\\n",
      "0        0.391405        0.016476        0.010477         0.002155   \n",
      "1        0.391405        0.016476        0.010477         0.002155   \n",
      "2        0.391405        0.016476        0.010477         0.002155   \n",
      "\n",
      "   Polymer_mass_Br  Polymer_mass_I  ...  Solvent_fr_sulfide  \\\n",
      "0     8.952481e-24    8.431623e-69  ...                   0   \n",
      "1     8.952481e-24    8.431623e-69  ...                   0   \n",
      "2     8.952481e-24    8.431623e-69  ...                   0   \n",
      "\n",
      "   Solvent_fr_sulfonamd  Solvent_fr_sulfone  Solvent_fr_term_acetylene  \\\n",
      "0                     0                   0                          0   \n",
      "1                     0                   0                          0   \n",
      "2                     0                   0                          0   \n",
      "\n",
      "   Solvent_fr_tetrazole  Solvent_fr_thiazole  Solvent_fr_thiocyan  \\\n",
      "0                     0                    0                    0   \n",
      "1                     0                    0                    0   \n",
      "2                     0                    0                    0   \n",
      "\n",
      "   Solvent_fr_thiophene  Solvent_fr_unbrch_alkane  Solvent_fr_urea  \n",
      "0                     0                         0                0  \n",
      "1                     0                         0                0  \n",
      "2                     0                         0                0  \n",
      "\n",
      "[3 rows x 800 columns]\n"
     ]
    }
   ],
   "source": [
    "import pandas as pd\n",
    "\n",
    "# Step 1: Read the data\n",
    "file_path = 'demo_data/demo_desc.csv'\n",
    "data = pd.read_csv(file_path)\n",
    "\n",
    "# Step 2: Check for missing columns\n",
    "if 'Polymer_mass_H' not in data.columns:\n",
    "    print(\"Column 'Polymer_mass_H' is missing.\")\n",
    "else:\n",
    "    print(\"Column 'Polymer_mass_H' is present.\")\n",
    "\n",
    "# Step 3: Display the first few rows to investigate the issue\n",
    "print(data.head())"
   ]
  }
 ],
 "metadata": {
  "kernelspec": {
   "display_name": "Python 3 (ipykernel)",
   "language": "python",
   "name": "python3"
  },
  "language_info": {
   "codemirror_mode": {
    "name": "ipython",
    "version": 3
   },
   "file_extension": ".py",
   "mimetype": "text/x-python",
   "name": "python",
   "nbconvert_exporter": "python",
   "pygments_lexer": "ipython3",
   "version": "3.8.12"
  }
 },
 "nbformat": 4,
 "nbformat_minor": 5
}
